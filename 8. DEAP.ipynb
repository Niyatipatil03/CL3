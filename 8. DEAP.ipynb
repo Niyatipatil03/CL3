{
  "cells": [
    {
      "cell_type": "code",
      "source": [
        "import random\n",
        "from deap import base, creator, tools, algorithms"
      ],
      "metadata": {
        "id": "RJVLbOr3JnAt"
      },
      "id": "RJVLbOr3JnAt",
      "execution_count": 74,
      "outputs": []
    },
    {
      "cell_type": "code",
      "source": [
        "# Define the evaluation function (minimize a simple mathematical function)\n",
        "def eval_func(individual):\n",
        "    # Example evaluation function (minimize a quadratic function)\n",
        "    return sum(x ** 2 for x in individual),"
      ],
      "metadata": {
        "id": "yy45--fYUZZ9"
      },
      "id": "yy45--fYUZZ9",
      "execution_count": 75,
      "outputs": []
    },
    {
      "cell_type": "code",
      "source": [
        "# DEAP setup\n",
        "creator.create(\"FitnessMin\", base.Fitness, weights=(-1.0,))\n",
        "creator.create(\"Individual\", list, fitness=creator.FitnessMin)\n",
        "\n",
        "toolbox = base.Toolbox()"
      ],
      "metadata": {
        "colab": {
          "base_uri": "https://localhost:8080/"
        },
        "id": "Hw9cyMIIZC4b",
        "outputId": "f912d99a-91b5-43c4-8ccf-3e9b7ce7fc1f"
      },
      "id": "Hw9cyMIIZC4b",
      "execution_count": 76,
      "outputs": [
        {
          "output_type": "stream",
          "name": "stderr",
          "text": [
            "/usr/local/lib/python3.11/dist-packages/deap/creator.py:185: RuntimeWarning: A class named 'FitnessMin' has already been created and it will be overwritten. Consider deleting previous creation of that class or rename it.\n",
            "  warnings.warn(\"A class named '{0}' has already been created and it \"\n",
            "/usr/local/lib/python3.11/dist-packages/deap/creator.py:185: RuntimeWarning: A class named 'Individual' has already been created and it will be overwritten. Consider deleting previous creation of that class or rename it.\n",
            "  warnings.warn(\"A class named '{0}' has already been created and it \"\n"
          ]
        }
      ]
    },
    {
      "cell_type": "code",
      "source": [
        "# Define attributes and individuals\n",
        "toolbox.register(\"attr_float\", random.uniform, -5.0, 5.0)  # Example: Float values between -5 and 5\n",
        "toolbox.register(\"individual\", tools.initRepeat, creator.Individual, toolbox.attr_float, n=3)  # Example: 3-dimensional individual\n",
        "toolbox.register(\"population\", tools.initRepeat, list, toolbox.individual)"
      ],
      "metadata": {
        "id": "utRbUD4CZs_q"
      },
      "id": "utRbUD4CZs_q",
      "execution_count": 77,
      "outputs": []
    },
    {
      "cell_type": "code",
      "source": [
        "# Evaluation function and genetic operators\n",
        "toolbox.register(\"evaluate\", eval_func)\n",
        "toolbox.register(\"mate\", tools.cxBlend, alpha=0.5)\n",
        "toolbox.register(\"mutate\", tools.mutGaussian, mu=0, sigma=1, indpb=0.2)\n",
        "toolbox.register(\"select\", tools.selTournament, tournsize=3)"
      ],
      "metadata": {
        "id": "i8DRjnPHZzOi"
      },
      "id": "i8DRjnPHZzOi",
      "execution_count": 78,
      "outputs": []
    },
    {
      "cell_type": "code",
      "source": [
        "# Create population\n",
        "population = toolbox.population(n=50)\n",
        "\n",
        "# Genetic Algorithm parameters\n",
        "generations = 20"
      ],
      "metadata": {
        "id": "jo2urPtbZ1sm"
      },
      "id": "jo2urPtbZ1sm",
      "execution_count": 79,
      "outputs": []
    },
    {
      "cell_type": "code",
      "source": [
        "# Run the algorithm\n",
        "for gen in range(generations):\n",
        "    offspring = algorithms.varAnd(population, toolbox, cxpb=0.5, mutpb=0.1)\n",
        "\n",
        "    fits = toolbox.map(toolbox.evaluate, offspring)\n",
        "    for fit, ind in zip(fits, offspring):\n",
        "        ind.fitness.values = fit\n",
        "\n",
        "    population = toolbox.select(offspring, k=len(population))\n"
      ],
      "metadata": {
        "id": "Pxg9b0xrZ5Gw"
      },
      "id": "Pxg9b0xrZ5Gw",
      "execution_count": 80,
      "outputs": []
    },
    {
      "cell_type": "code",
      "source": [
        "# Get the best individual after generations\n",
        "best_ind = tools.selBest(population, k=1)[0]\n",
        "best_fitness = best_ind.fitness.values[0]\n",
        "\n",
        "print(\"Best individual:\", best_ind)\n",
        "print(\"Best fitness:\", best_fitness)"
      ],
      "metadata": {
        "id": "fSCTO-jjeGWm",
        "outputId": "b200e71e-8e4e-42ea-cd9c-1635984b08d7",
        "colab": {
          "base_uri": "https://localhost:8080/"
        }
      },
      "id": "fSCTO-jjeGWm",
      "execution_count": 81,
      "outputs": [
        {
          "output_type": "stream",
          "name": "stdout",
          "text": [
            "Best individual: [-0.0025155026222578, 0.003916825450602803, 0.002300724452969716]\n",
            "Best fitness: 2.6962608061568518e-05\n"
          ]
        }
      ]
    },
    {
      "cell_type": "code",
      "source": [],
      "metadata": {
        "id": "DnWF2p8keIfN"
      },
      "id": "DnWF2p8keIfN",
      "execution_count": null,
      "outputs": []
    }
  ],
  "metadata": {
    "colab": {
      "provenance": []
    },
    "language_info": {
      "name": "python"
    },
    "kernelspec": {
      "name": "python3",
      "display_name": "Python 3"
    }
  },
  "nbformat": 4,
  "nbformat_minor": 5
}